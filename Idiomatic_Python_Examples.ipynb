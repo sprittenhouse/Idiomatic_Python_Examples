{
 "cells": [
  {
   "cell_type": "markdown",
   "id": "f0ae027b-4c19-48be-a7f8-f27128f6666f",
   "metadata": {},
   "source": [
    "# 21 Rules for Idiomatic Python with Code Examples\n",
    "### Everything in Python has an inherit truthiness. What qualifies as evaluating to False?\n",
    "- False\n",
    "- 0\n",
    "- '', [], {} i.e. empty sequences/containers\n",
    "- None\n",
    "\n",
    "Everything else in python is treated as True!\n",
    "\n",
    "### 1. Avoid comparing directly to True, False or None"
   ]
  },
  {
   "cell_type": "code",
   "execution_count": 53,
   "id": "4a7ad0c1-6de7-4d28-a8f9-3bb0c81483a4",
   "metadata": {},
   "outputs": [
    {
     "name": "stdout",
     "output_type": "stream",
     "text": [
      "Bad True!\n",
      "Good True!\n"
     ]
    }
   ],
   "source": [
    "x = 1\n",
    "\n",
    "# Bad!\n",
    "if x == True:\n",
    "    print('Bad True!')\n",
    "\n",
    "# Good!\n",
    "if x: \n",
    "    print('Good True!')"
   ]
  },
  {
   "cell_type": "markdown",
   "id": "19791f6b-4aeb-4a05-ac83-283cc71cda09",
   "metadata": {},
   "source": [
    "### 2. Avoid repeating variable name in a compound if statement"
   ]
  },
  {
   "cell_type": "code",
   "execution_count": null,
   "id": "1420e5e0-4a8e-4d84-a7c2-5e4b1596628f",
   "metadata": {},
   "outputs": [],
   "source": [
    "# Bad!\n",
    "is_sport = False\n",
    "sport = 'Basketball'\n",
    "if sport == 'Basketball' or sport == 'Baseball' or sport == 'Football':\n",
    "    is_sport = True\n",
    "\n",
    "# Good!\n",
    "sport = 'Basketball'\n",
    "is_sport = sport in ('Basketball','Baseball','Football')\n",
    "\n"
   ]
  },
  {
   "cell_type": "markdown",
   "id": "9e105d09-9971-4b32-8517-d9154fc94b6b",
   "metadata": {},
   "source": [
    "### 3. Use enumerate() to track the index when iterating in a for loop"
   ]
  },
  {
   "cell_type": "code",
   "execution_count": 57,
   "id": "84ba1223-f6cc-4878-a4c6-59be81c279f1",
   "metadata": {},
   "outputs": [
    {
     "name": "stdout",
     "output_type": "stream",
     "text": [
      "0 bing\n",
      "1 bong\n",
      "2 dingo\n",
      "0 bing\n",
      "1 bong\n",
      "2 dingo\n"
     ]
    }
   ],
   "source": [
    "# Bad! \n",
    "my_lst = ['bing', 'bong', 'dingo']\n",
    "idx = 0\n",
    "for element in my_lst:\n",
    "    print('{} {}'.format(idx, element))\n",
    "    idx += 1\n",
    "\n",
    "# Good!\n",
    "my_lst = ['bing', 'bong', 'dingo']\n",
    "for idx, element in enumerate(my_lst):\n",
    "    print('{} {}'.format(idx, element))"
   ]
  },
  {
   "cell_type": "markdown",
   "id": "8560b5d3-1d16-496b-b79b-554ee97820ce",
   "metadata": {},
   "source": [
    "### 4. Use keyword in to iterate over iterables!"
   ]
  },
  {
   "cell_type": "code",
   "execution_count": 68,
   "id": "f9965523-e7d4-4bff-a5b8-204530d705b1",
   "metadata": {},
   "outputs": [
    {
     "name": "stdout",
     "output_type": "stream",
     "text": [
      "\n",
      "shting\n",
      "shtingshting\n",
      "shtingshtingshting\n",
      "shtingshtingshtingshting\n",
      "shtingshtingshtingshtingshting\n",
      "shtingshtingshtingshtingshtingshting\n",
      "shtingshtingshtingshtingshtingshtingshting\n",
      "shtingshtingshtingshtingshtingshtingshtingshting\n",
      "shtingshtingshtingshtingshtingshtingshtingshtingshting\n",
      "\n",
      "ding\n",
      "dingding\n",
      "dingdingding\n",
      "dingdingdingding\n",
      "dingdingdingdingding\n",
      "dingdingdingdingdingding\n",
      "dingdingdingdingdingdingding\n",
      "dingdingdingdingdingdingdingding\n",
      "dingdingdingdingdingdingdingdingding\n"
     ]
    }
   ],
   "source": [
    "# Bad!\n",
    "shtings = ['shting'*i for i in range(10)]\n",
    "idx = 0\n",
    "while idx < len(shtings):\n",
    "    print(shtings[idx])\n",
    "    idx += 1\n",
    "\n",
    "# Good!\n",
    "dings = ['ding'*i for i in range(10)]\n",
    "for d in dings:\n",
    "    print(d)"
   ]
  },
  {
   "cell_type": "markdown",
   "id": "0d4f78c4-9227-4f58-94c1-47528891104d",
   "metadata": {},
   "source": [
    "### 5. Use else to run code after a for loop finishes!"
   ]
  },
  {
   "cell_type": "code",
   "execution_count": 71,
   "id": "387b7773-e707-46a3-8132-006fb4faffc8",
   "metadata": {},
   "outputs": [
    {
     "name": "stdout",
     "output_type": "stream",
     "text": [
      "Even Found!\n",
      "No Evens!\n"
     ]
    }
   ],
   "source": [
    "# Bad! \n",
    "nums = [str(i) for i in range(10)]\n",
    "for n in nums:\n",
    "    even_found = False\n",
    "    if int(n) % 2 == 0:\n",
    "        even_found = True\n",
    "        print('Even Found!')\n",
    "        break\n",
    "    if not even_found:\n",
    "        print('No Evens!')\n",
    "\n",
    "# Good!\n",
    "nums = [str(i) for i in [1,3,5,7,9]]\n",
    "for n in nums:\n",
    "    if int(n) % 2 == 0:\n",
    "        print('Even Found!')\n",
    "        break\n",
    "else:\n",
    "    print('No Evens!')"
   ]
  },
  {
   "cell_type": "markdown",
   "id": "11d5a108-e73b-45d8-b0cc-d86fbecf5d8b",
   "metadata": {},
   "source": [
    "### 6. Avoid using '', [], and {} as default parameters to functions"
   ]
  },
  {
   "cell_type": "code",
   "execution_count": 86,
   "id": "de0f9eb4-d7bd-4234-8724-43f22173a936",
   "metadata": {},
   "outputs": [
    {
     "name": "stdout",
     "output_type": "stream",
     "text": [
      "[1]\n",
      "[1, 2]\n",
      "[1, 2, 3]\n",
      "[1]\n",
      "[2]\n",
      "[3]\n"
     ]
    }
   ],
   "source": [
    "# Bad!\n",
    "# L only gets set once, so subsequent function calls keep appending to L\n",
    "def foo(a, L=[]):\n",
    "    L.append(a)\n",
    "    return L\n",
    "    \n",
    "print(foo(1))\n",
    "print(foo(2))\n",
    "print(foo(3))\n",
    "\n",
    "# Good!\n",
    "def foo(a, L=None):\n",
    "    if L is None:\n",
    "        L = []\n",
    "    L.append(a)\n",
    "    return L\n",
    "    \n",
    "print(foo(1))\n",
    "print(foo(2))\n",
    "print(foo(3))"
   ]
  },
  {
   "cell_type": "markdown",
   "id": "82a0338e-55fc-42ae-b0b0-f883728ab357",
   "metadata": {},
   "source": [
    "### 7. Use *args and **kwargs when defining functions to maintain backwards compatibility!"
   ]
  },
  {
   "cell_type": "code",
   "execution_count": 118,
   "id": "69bae83d-6016-4f27-aefa-315d793a666e",
   "metadata": {},
   "outputs": [
    {
     "name": "stdout",
     "output_type": "stream",
     "text": [
      "True\n",
      "False\n",
      "True\n",
      "False\n"
     ]
    }
   ],
   "source": [
    "# Bad! Versioning Nightmare!\n",
    "def foo(a, b, c):\n",
    "    if a <= b <= c:\n",
    "        return True\n",
    "    return False\n",
    "\n",
    "def foo_2(a, b, c, d):\n",
    "    if foo(a,b,c) and c <= d:\n",
    "        return True\n",
    "    return False\n",
    "\n",
    "def foo_3(a, b, c, d, str_e):\n",
    "    if foo_2(a,b,c,d) and d <= int(str_e):\n",
    "        return True\n",
    "    return False\n",
    "\n",
    "print(foo_3(1,2,3,4,'5'))\n",
    "print(foo_3(1,2,3,4,'3'))\n",
    "\n",
    "# Good!\n",
    "def new_foo(*args, **kwargs):\n",
    "    return foo(args[0], args[1], args[2]) and args[2] <= kwargs['d'] <= kwargs['e']\n",
    "\n",
    "print(new_foo(1,2,3,d=4,e=5))\n",
    "print(new_foo(1,2,3,d=4,e=3))"
   ]
  },
  {
   "cell_type": "markdown",
   "id": "d0d1c210-2a9e-4bb7-b174-30b1e54f7b9d",
   "metadata": {},
   "source": [
    "### 8. Use list comprehension to transform existing lists"
   ]
  },
  {
   "cell_type": "code",
   "execution_count": 123,
   "id": "c7f52036-99e5-4666-8d3a-82c571be78fc",
   "metadata": {},
   "outputs": [
    {
     "name": "stdout",
     "output_type": "stream",
     "text": [
      "[1, 3]\n",
      "[1, 3]\n"
     ]
    }
   ],
   "source": [
    "# Bad!\n",
    "one_list = range(5)\n",
    "another_list = list()\n",
    "for l in one_list:\n",
    "    if l % 2 != 0:\n",
    "        another_list.append(l)\n",
    "print(another_list)\n",
    "\n",
    "# Good!\n",
    "one_list = range(5)\n",
    "another_list = [l for l in one_list if l % 2 != 0]\n",
    "print(another_list)"
   ]
  },
  {
   "cell_type": "markdown",
   "id": "63a26877-4e04-46cf-8f44-9d7c9ad04617",
   "metadata": {},
   "source": [
    "### 9. Use the * operator to represent the rest of a list"
   ]
  },
  {
   "cell_type": "code",
   "execution_count": 128,
   "id": "c73de6ee-a684-4868-9993-aea84e6aec13",
   "metadata": {},
   "outputs": [
    {
     "name": "stdout",
     "output_type": "stream",
     "text": [
      "['c', 'd', 'e']\n",
      "['b', 'c', 'd']\n",
      "['a', 'b', 'c']\n",
      "['c', 'd', 'e']\n",
      "['b', 'c', 'd']\n",
      "['a', 'b', 'c']\n"
     ]
    }
   ],
   "source": [
    "# Bad!\n",
    "some_list = ['a', 'b', 'c', 'd', 'e']\n",
    "(first, second, rest) = some_list[0], some_list[1], some_list[2:]\n",
    "print(rest)\n",
    "(first, middle, last) = some_list[0], some_list[1:-1], some_list[-1]\n",
    "print(middle)\n",
    "(head, penultimate, last) = some_list[:-2], some_list[-2], some_list[-1]\n",
    "print(head)\n",
    "\n",
    "# Good!\n",
    "some_list = ['a', 'b', 'c', 'd', 'e']\n",
    "(first, second, *rest) = some_list\n",
    "print(rest)\n",
    "(first, *middle, last) = some_list\n",
    "print(middle)\n",
    "(*head, penultimate, last) = some_list\n",
    "print(head)"
   ]
  },
  {
   "cell_type": "markdown",
   "id": "bc38503f-2416-435e-a020-a71c2ebd0489",
   "metadata": {},
   "source": [
    "### 10. Use the default paramter of dict.get to provide default values"
   ]
  },
  {
   "cell_type": "code",
   "execution_count": 133,
   "id": "b563268d-e63f-4e41-b91c-0093686b8712",
   "metadata": {},
   "outputs": [],
   "source": [
    "config = {'emergency':'oh no!'}\n",
    "\n",
    "# Bad!\n",
    "emergency_status = None\n",
    "if 'emergency' in config:\n",
    "    emergency_status = config['emergency']\n",
    "else:\n",
    "    emergency_status = 'standby'\n",
    "\n",
    "# Good!\n",
    "emergency = config.get('emergency', 'standby')"
   ]
  },
  {
   "cell_type": "markdown",
   "id": "83c797e4-315f-4dea-b426-b6ffed37bb81",
   "metadata": {},
   "source": [
    "### 11. Use dict comprehension"
   ]
  },
  {
   "cell_type": "code",
   "execution_count": 168,
   "id": "170ab8df-a4e2-4697-b21b-1a797e24fc33",
   "metadata": {},
   "outputs": [
    {
     "ename": "TypeError",
     "evalue": "User.__init__() takes 1 positional argument but 3 were given",
     "output_type": "error",
     "traceback": [
      "\u001b[0;31m---------------------------------------------------------------------------\u001b[0m",
      "\u001b[0;31mTypeError\u001b[0m                                 Traceback (most recent call last)",
      "Cell \u001b[0;32mIn[168], line 10\u001b[0m\n\u001b[1;32m      7\u001b[0m     \u001b[38;5;28;01mdef\u001b[39;00m \u001b[38;5;21m__str__\u001b[39m(\u001b[38;5;28mself\u001b[39m):\n\u001b[1;32m      8\u001b[0m         \u001b[38;5;28;01mreturn\u001b[39;00m \u001b[38;5;124m'\u001b[39m\u001b[38;5;124mUser: \u001b[39m\u001b[38;5;132;01m{self.name}\u001b[39;00m\u001b[38;5;124m Email: \u001b[39m\u001b[38;5;132;01m{self.email}\u001b[39;00m\u001b[38;5;124m'\u001b[39m\u001b[38;5;241m.\u001b[39mformat(\u001b[38;5;28mself\u001b[39m\u001b[38;5;241m=\u001b[39m\u001b[38;5;28mself\u001b[39m)\n\u001b[0;32m---> 10\u001b[0m directory \u001b[38;5;241m=\u001b[39m [User(\u001b[38;5;124m'\u001b[39m\u001b[38;5;124mJoe\u001b[39m\u001b[38;5;124m'\u001b[39m, \u001b[38;5;124m'\u001b[39m\u001b[38;5;124mjoe@hotmail.com\u001b[39m\u001b[38;5;124m'\u001b[39m), User(\u001b[38;5;124m'\u001b[39m\u001b[38;5;124mDoug\u001b[39m\u001b[38;5;124m'\u001b[39m, \u001b[38;5;124m'\u001b[39m\u001b[38;5;124mdoug@gmail.com\u001b[39m\u001b[38;5;124m'\u001b[39m), User(\u001b[38;5;124m'\u001b[39m\u001b[38;5;124mBob\u001b[39m\u001b[38;5;124m'\u001b[39m)]\n\u001b[1;32m     12\u001b[0m \u001b[38;5;66;03m# Bad!\u001b[39;00m\n\u001b[1;32m     13\u001b[0m emails \u001b[38;5;241m=\u001b[39m {}\n",
      "\u001b[0;31mTypeError\u001b[0m: User.__init__() takes 1 positional argument but 3 were given"
     ]
    }
   ],
   "source": [
    "class User():\n",
    "\n",
    "    def __init__(self, name, email=''):\n",
    "        self.name = name\n",
    "        self.email = email\n",
    "\n",
    "    def __str__(self):\n",
    "        return 'User: {self.name} Email: {self.email}'.format(self=self)\n",
    "\n",
    "directory = [User('Joe', 'joe@hotmail.com'), User('Doug', 'doug@gmail.com'), User('Bob')]\n",
    "\n",
    "# Bad!\n",
    "emails = {}\n",
    "for user in directory:\n",
    "    if user.email:\n",
    "        emails[user.name] = user.email\n",
    "print(emails)\n",
    "\n",
    "# Good!\n",
    "emails = {user.name: user.email for user in directory if user.email}\n",
    "print(emails)"
   ]
  },
  {
   "cell_type": "markdown",
   "id": "daacb04c-b1c2-417c-a3cf-b4036495c87a",
   "metadata": {},
   "source": [
    "### 12. Use ''.join when creating a  single string for list elements"
   ]
  },
  {
   "cell_type": "code",
   "execution_count": 165,
   "id": "f83348dc-a419-4147-8926-d5528d179f13",
   "metadata": {},
   "outputs": [
    {
     "name": "stdout",
     "output_type": "stream",
     "text": [
      "abcdefghijklmnopqrstuvwxyz\n"
     ]
    }
   ],
   "source": [
    "# Bad!\n",
    "r_list = ['abcd', 'efg', 'hijklmnopqrstuvwxyz']\n",
    "r_string = ''\n",
    "for l in r_list:\n",
    "    r_string += l\n",
    "\n",
    "# Good!\n",
    "r_string = ''.join(r_list)\n",
    "print(r_string)"
   ]
  },
  {
   "cell_type": "markdown",
   "id": "69ae4b87-36d0-4f67-a18c-608cc2b7d8f3",
   "metadata": {},
   "source": [
    "### 13. User underscores in function and variable names to help mark private data"
   ]
  },
  {
   "cell_type": "code",
   "execution_count": 198,
   "id": "a7e86a90-f801-4099-81a9-60be528928bf",
   "metadata": {},
   "outputs": [
    {
     "name": "stdout",
     "output_type": "stream",
     "text": [
      "True\n",
      "True\n",
      "False\n",
      "True\n"
     ]
    },
    {
     "ename": "AttributeError",
     "evalue": "'othersubfoo' object has no attribute '__id'",
     "output_type": "error",
     "traceback": [
      "\u001b[0;31m---------------------------------------------------------------------------\u001b[0m",
      "\u001b[0;31mAttributeError\u001b[0m                            Traceback (most recent call last)",
      "Cell \u001b[0;32mIn[198], line 55\u001b[0m\n\u001b[1;32m     52\u001b[0m \u001b[38;5;28mprint\u001b[39m(c1\u001b[38;5;241m.\u001b[39mdetonate()) \u001b[38;5;66;03m# False\u001b[39;00m\n\u001b[1;32m     53\u001b[0m \u001b[38;5;28mprint\u001b[39m(c1\u001b[38;5;241m.\u001b[39mid \u001b[38;5;241m==\u001b[39m \u001b[38;5;241m666\u001b[39m) \u001b[38;5;66;03m# True\u001b[39;00m\n\u001b[0;32m---> 55\u001b[0m \u001b[38;5;28mgetattr\u001b[39m(c1, \u001b[38;5;124m'\u001b[39m\u001b[38;5;124m__id\u001b[39m\u001b[38;5;124m'\u001b[39m)\n",
      "\u001b[0;31mAttributeError\u001b[0m: 'othersubfoo' object has no attribute '__id'"
     ]
    }
   ],
   "source": [
    "# Bad!\n",
    "class foo():\n",
    "    def __init__(self):\n",
    "        self.id = 10\n",
    "        self.value = self.get_value()\n",
    "\n",
    "    def get_value(self):\n",
    "        pass\n",
    "\n",
    "    def detonate(self):\n",
    "        return self.id == 666\n",
    "\n",
    "class subfoo(foo):\n",
    "    def get_value(self, new_param):\n",
    "        pass\n",
    "\n",
    "class othersubfoo(foo):\n",
    "    def __init__(self):\n",
    "        super(othersubfoo, self).__init__()\n",
    "        self.id = 666\n",
    "\n",
    "c1 = othersubfoo() # creates an instance of othersubfoo from parent class foo; however, overwites the id so that foo's id is no longer 8!\n",
    "# c2 = subfoo() # Raises a type error since creating a subfoo instance calls get_value of the base class foo which does not take a parameter\n",
    "print(c1.detonate()) # True\n",
    "print(c1.id == 666) # True\n",
    "\n",
    "# Good! now that we are protecting our base class attributes with __, they will not get conflated by subclasses that use the same names\n",
    "class foo():\n",
    "    def __init__(self):\n",
    "        self.__id = 10\n",
    "        self.value = self.__get_value()\n",
    "\n",
    "    def get_value(self):\n",
    "        pass\n",
    "\n",
    "    def detonate(self):\n",
    "        return self.__id == 666\n",
    "\n",
    "    __get_value = get_value\n",
    "\n",
    "class subfoo(foo):\n",
    "    def get_value(self, new_param):\n",
    "        pass\n",
    "\n",
    "class othersubfoo(foo):\n",
    "    def __init__(self):\n",
    "        super(othersubfoo, self).__init__()\n",
    "        self.id = 666\n",
    "\n",
    "c1 = othersubfoo() # creates an instance of othersubfoo from parent class foo; however, overwites the id so that foo's id is no longer 8!\n",
    "c2 = subfoo() # Now functions since it does not call get_value() from the parent class foo when it initializes\n",
    "print(c1.detonate()) # False\n",
    "print(c1.id == 666) # True\n",
    "\n",
    "getattr(c1, '__id') # returns an AttributeError because othersubfoo does not have an __id"
   ]
  },
  {
   "cell_type": "markdown",
   "id": "ffb8399b-0150-40f4-9545-08400e7f3dc9",
   "metadata": {},
   "source": [
    "### 14. Define __str__ in a class to easily print a readable representation of an object"
   ]
  },
  {
   "cell_type": "code",
   "execution_count": 27,
   "id": "19537146-7bcc-465f-a449-9864caa2f2fc",
   "metadata": {},
   "outputs": [
    {
     "name": "stdout",
     "output_type": "stream",
     "text": [
      "1, 2\n"
     ]
    }
   ],
   "source": [
    "class Point():\n",
    "    def __init__(self, x, y):\n",
    "        self.x = x\n",
    "        self.y = y\n",
    "    def __str__(self):\n",
    "        return '{self.x}, {self.y}'.format(self=self)\n",
    "p = Point(1, 2)\n",
    "print (p)"
   ]
  },
  {
   "cell_type": "markdown",
   "id": "78642d8c-a46b-4696-bcf8-48eeb4e26341",
   "metadata": {},
   "source": [
    "### 15. Use sets to eliminate duplicate entries from iterables"
   ]
  },
  {
   "cell_type": "code",
   "execution_count": 205,
   "id": "85764340-3692-4b1b-83d6-dafaf33ddcf8",
   "metadata": {},
   "outputs": [
    {
     "name": "stdout",
     "output_type": "stream",
     "text": [
      "<ul><li>Smith</li><li>Doe</li><li>Corn</li><li>Cornsmith</li></ul>\n"
     ]
    },
    {
     "data": {
      "text/plain": [
       "'<ul><li>Smith</li><li>Doe</li><li>Cornsmith</li><li>Corn</li></ul>'"
      ]
     },
     "execution_count": 205,
     "metadata": {},
     "output_type": "execute_result"
    }
   ],
   "source": [
    "employee_surnames = ['Smith', 'Doe', 'Corn', 'Cornsmith', 'Smith', 'Doe']\n",
    "\n",
    "def display(elements, output_format='html'):\n",
    "    if output_format == 'std_out':\n",
    "        for element in elements:\n",
    "            print(element)\n",
    "    elif output_format == 'html':\n",
    "        as_html = '<ul>'\n",
    "        for element in elements:\n",
    "            as_html += '<li>{}</li>'.format(element)\n",
    "        return as_html + '</ul>'\n",
    "    else:\n",
    "        raise RuntimeError('Unknown format {}'.format(output_format))\n",
    "\n",
    "# Bad!\n",
    "unique_surnames = []\n",
    "for surname in employee_surnames:\n",
    "    if surname not in unique_surnames:\n",
    "        unique_surnames.append(surname)\n",
    "print(display(unique_surnames))\n",
    "\n",
    "# Good!\n",
    "unique_surnames = set(employee_surnames)\n",
    "display(unique_surnames)"
   ]
  },
  {
   "cell_type": "markdown",
   "id": "01e3800e-3515-4368-aef3-fd7b1d86dc48",
   "metadata": {},
   "source": [
    "### 16. Use set comprehension"
   ]
  },
  {
   "cell_type": "code",
   "execution_count": 216,
   "id": "9156e580-4b65-4da3-9f2b-0a9d465dbdae",
   "metadata": {},
   "outputs": [
    {
     "name": "stdout",
     "output_type": "stream",
     "text": [
      "{'Sarah', 'Joe', 'Bob'}\n"
     ]
    },
    {
     "data": {
      "text/plain": [
       "{'Bob', 'Joe', 'Sarah'}"
      ]
     },
     "execution_count": 216,
     "metadata": {},
     "output_type": "execute_result"
    }
   ],
   "source": [
    "class User():\n",
    "    def __init__(self, first_name, last_name, email=''):\n",
    "        self.first_name = first_name\n",
    "        self.last_name = last_name\n",
    "        self.email = email\n",
    "\n",
    "# Bad!\n",
    "first_names = set()\n",
    "users = [User('Bob','Dylan'), User('Joe','Doe'), User('Sarah','Cumberbund')]\n",
    "for user in users:\n",
    "    first_names.add(user.first_name) #.add inserts the current first name at the beginning of the set! This isn't necessarily intuitive from reading the code\n",
    "print(first_names)\n",
    "\n",
    "# Good!\n",
    "first_names = {user.first_name for user in users}\n",
    "first_names"
   ]
  },
  {
   "cell_type": "markdown",
   "id": "ce1e4523-9157-42b7-adc0-bbef235c3a22",
   "metadata": {},
   "source": [
    "### 17. Use context managers to ensure resources are properly managed"
   ]
  },
  {
   "cell_type": "code",
   "execution_count": 248,
   "id": "c0306803-33d9-4252-96fc-f8d58efb2359",
   "metadata": {},
   "outputs": [
    {
     "ename": "KeyError",
     "evalue": "'line'",
     "output_type": "error",
     "traceback": [
      "\u001b[0;31m---------------------------------------------------------------------------\u001b[0m",
      "\u001b[0;31mLengthException\u001b[0m                           Traceback (most recent call last)",
      "Cell \u001b[0;32mIn[248], line 15\u001b[0m\n\u001b[1;32m     14\u001b[0m \u001b[38;5;28;01mtry\u001b[39;00m:\n\u001b[0;32m---> 15\u001b[0m    raise_exception(line)\n\u001b[1;32m     16\u001b[0m \u001b[38;5;28;01mexcept\u001b[39;00m:\n",
      "Cell \u001b[0;32mIn[248], line 9\u001b[0m, in \u001b[0;36mraise_exception\u001b[0;34m(text)\u001b[0m\n\u001b[1;32m      8\u001b[0m \u001b[38;5;28;01mif\u001b[39;00m \u001b[38;5;28mlen\u001b[39m(text) \u001b[38;5;241m>\u001b[39m \u001b[38;5;241m10\u001b[39m:\n\u001b[0;32m----> 9\u001b[0m     \u001b[38;5;28;01mraise\u001b[39;00m LengthException\n",
      "\u001b[0;31mLengthException\u001b[0m: ",
      "\nDuring handling of the above exception, another exception occurred:\n",
      "\u001b[0;31mKeyError\u001b[0m                                  Traceback (most recent call last)",
      "Cell \u001b[0;32mIn[248], line 17\u001b[0m\n\u001b[1;32m     15\u001b[0m    raise_exception(line)\n\u001b[1;32m     16\u001b[0m \u001b[38;5;28;01mexcept\u001b[39;00m:\n\u001b[0;32m---> 17\u001b[0m    \u001b[38;5;28mprint\u001b[39m(\u001b[38;5;124m'\u001b[39m\u001b[38;5;132;01m{line}\u001b[39;00m\u001b[38;5;124m is Too long!\u001b[39m\u001b[38;5;124m'\u001b[39m\u001b[38;5;241m.\u001b[39mformat(line))\n",
      "\u001b[0;31mKeyError\u001b[0m: 'line'"
     ]
    }
   ],
   "source": [
    "import os\n",
    "file_path = os.path.join(os.getcwd(), 'sample.txt')\n",
    "\n",
    "class LengthException(Exception):\n",
    "    pass\n",
    "\n",
    "def raise_exception(text):\n",
    "    if len(text) > 10:\n",
    "        raise LengthException\n",
    "\n",
    "# Bad!\n",
    "file = open(file_path, 'r')\n",
    "for line in file.readlines():\n",
    "    try:\n",
    "       raise_exception(line)\n",
    "    except:\n",
    "       print('{line} is Too long!'.format(line))"
   ]
  },
  {
   "cell_type": "code",
   "execution_count": 250,
   "id": "1dd4d617-64a2-4f13-9bba-105bfee4995a",
   "metadata": {},
   "outputs": [
    {
     "name": "stdout",
     "output_type": "stream",
     "text": [
      "3 love\n",
      "\n",
      "6 computers\n",
      "\n",
      "6 computers\n",
      " is Too long!\n",
      "2 dogs\n",
      "\n",
      "4 cats\n",
      "\n",
      "1 I\n",
      "\n",
      "5 you\n",
      "\n"
     ]
    }
   ],
   "source": [
    "# Good!\n",
    "with open(file_path, 'r') as file:\n",
    "    for line in file.readlines():\n",
    "        print(line)\n",
    "        try:\n",
    "            raise_exception(line)\n",
    "        except:\n",
    "            print('{line} is Too long!'.format(line=line))"
   ]
  },
  {
   "cell_type": "markdown",
   "id": "e38084ae-ecbb-483a-96ff-acf0d1d4f6fd",
   "metadata": {},
   "source": [
    "### 18. User tuples to unpack data"
   ]
  },
  {
   "cell_type": "code",
   "execution_count": 255,
   "id": "e3626610-c6d8-4016-a435-8796cb0de8f6",
   "metadata": {},
   "outputs": [
    {
     "name": "stdout",
     "output_type": "stream",
     "text": [
      "Bob is a boy who likes ice cream\n"
     ]
    }
   ],
   "source": [
    "# Bad! You can imagine what the bad looks like here....\n",
    "\n",
    "# Good!\n",
    "some_list = ['Bob','boy','ice cream']\n",
    "(name, gender, food) = some_list\n",
    "print('{name} is a {gender} who likes {food}'.format(name=name, gender=gender, food=food))"
   ]
  },
  {
   "cell_type": "markdown",
   "id": "80cc83a1-8c55-4c3d-ac2d-024c2aeea9ff",
   "metadata": {},
   "source": [
    "### 19. User _ as a placeholder for data in a tuple that should be ignored"
   ]
  },
  {
   "cell_type": "code",
   "execution_count": 258,
   "id": "a6622c8c-a34f-470f-b52f-579b6fccb453",
   "metadata": {},
   "outputs": [
    {
     "name": "stdout",
     "output_type": "stream",
     "text": [
      "Bob is a boy!\n",
      "Bob is a boy!\n"
     ]
    }
   ],
   "source": [
    "# Bad!\n",
    "def get_info():\n",
    "    return 'Bob', 'boy', 'ice cream'\n",
    "\n",
    "(name, gender, tmp) = get_info()\n",
    "if gender == 'boy':\n",
    "    print('{name} is a boy!'.format(name=name))\n",
    "\n",
    "# Good!\n",
    "(name, gender, _) = get_info()\n",
    "if gender == 'boy':\n",
    "    print('{name} is a boy!'.format(name=name))"
   ]
  },
  {
   "cell_type": "markdown",
   "id": "64ba380c-99d5-424c-86be-5f102cf4ca73",
   "metadata": {},
   "source": [
    "### 20. Global constants should be defined in all caps"
   ]
  },
  {
   "cell_type": "code",
   "execution_count": 261,
   "id": "0abaadb0-beda-43d4-ba57-087e1cd82339",
   "metadata": {},
   "outputs": [],
   "source": [
    "# Bad!\n",
    "time_to_completion = 10000\n",
    "\n",
    "# Good!\n",
    "TIME_TO_COMPLETION = 10000"
   ]
  },
  {
   "cell_type": "markdown",
   "id": "b66cd2d2-231d-4545-b47c-a136e61f9175",
   "metadata": {},
   "source": [
    "### 21. Use sys.exit in your script to return proper error codes"
   ]
  },
  {
   "cell_type": "code",
   "execution_count": 266,
   "id": "db53128e-f583-427d-9742-41b9283ac914",
   "metadata": {},
   "outputs": [],
   "source": [
    "# Bad! No return at the end!\n",
    "def do_something(param):\n",
    "    return True\n",
    "\n",
    "def do_something_else(param):\n",
    "    return False\n",
    "\n",
    "def main():\n",
    "    pass\n",
    "\n",
    "if __name__ == '__main__':\n",
    "    import sys\n",
    "    if len(sys.argv) > 1:\n",
    "        argument = sys.argv[1]\n",
    "        result = do_something(argument)\n",
    "        if result:\n",
    "            do_something_else(result)"
   ]
  },
  {
   "cell_type": "code",
   "execution_count": 280,
   "id": "a864486f-5974-4b64-92b8-68aaedd4a748",
   "metadata": {},
   "outputs": [
    {
     "ename": "SystemExit",
     "evalue": "0",
     "output_type": "error",
     "traceback": [
      "An exception has occurred, use %tb to see the full traceback.\n",
      "\u001b[0;31mSystemExit\u001b[0m\u001b[0;31m:\u001b[0m 0\n"
     ]
    }
   ],
   "source": [
    "import sys\n",
    "# Good!\n",
    "def main():\n",
    "    if (len(sys.argv) < 2):\n",
    "        sys.exit('No argument was passed')\n",
    "    arg = sys.argv[1]\n",
    "    result = do_something(arg)\n",
    "    if not result:\n",
    "        sys.exit(1)\n",
    "    do_something_else(result)\n",
    "    return 0\n",
    "\n",
    "if __name__ == '__main__':\n",
    "    sys.exit(main())"
   ]
  }
 ],
 "metadata": {
  "kernelspec": {
   "display_name": "Python 3 (ipykernel)",
   "language": "python",
   "name": "python3"
  },
  "language_info": {
   "codemirror_mode": {
    "name": "ipython",
    "version": 3
   },
   "file_extension": ".py",
   "mimetype": "text/x-python",
   "name": "python",
   "nbconvert_exporter": "python",
   "pygments_lexer": "ipython3",
   "version": "3.11.7"
  }
 },
 "nbformat": 4,
 "nbformat_minor": 5
}
